{
 "cells": [
  {
   "cell_type": "code",
   "execution_count": 1,
   "id": "9e394716",
   "metadata": {},
   "outputs": [],
   "source": [
    "%load_ext autoreload\n",
    "%autoreload 2"
   ]
  },
  {
   "cell_type": "code",
   "execution_count": 6,
   "id": "96b09cbf",
   "metadata": {},
   "outputs": [
    {
     "name": "stderr",
     "output_type": "stream",
     "text": [
      "/home/nadir/tmr-code/.tmr.venv/lib/python3.10/site-packages/tqdm/auto.py:21: TqdmWarning: IProgress not found. Please update jupyter and ipywidgets. See https://ipywidgets.readthedocs.io/en/stable/user_install.html\n",
      "  from .autonotebook import tqdm as notebook_tqdm\n"
     ]
    }
   ],
   "source": [
    "import os\n",
    "import yaml\n",
    "import tqdm\n",
    "import json\n",
    "import torch\n",
    "import hydra\n",
    "import pprint\n",
    "import logging\n",
    "import colorlog\n",
    "import src.prepare  # noqa\n",
    "import logging.config\n",
    "\n",
    "import numpy as np\n",
    "import pytorch_lightning as pl\n",
    "\n",
    "from src.config import read_config\n",
    "from hydra.utils import instantiate\n",
    "from src.load import load_model_from_cfg\n",
    "from omegaconf import OmegaConf, DictConfig\n",
    "from hydra import initialize, initialize_config_module, initialize_config_dir, compose"
   ]
  },
  {
   "cell_type": "code",
   "execution_count": 7,
   "id": "fc061f40",
   "metadata": {},
   "outputs": [],
   "source": [
    "LOGGING_CONFIG = {\n",
    "    'version': 1,\n",
    "    'disable_existing_loggers': False,\n",
    "    'formatters': {\n",
    "        'simple': {\n",
    "            'format': '[%(asctime)s][%(name)s][%(levelname)s] - %(message)s',\n",
    "            'datefmt': '%d/%m/%y %H:%M:%S',\n",
    "        },\n",
    "        'colorlog': {\n",
    "            '()': 'colorlog.ColoredFormatter',\n",
    "            'format': '[%(white)s%(asctime)s%(reset)s] %(log_color)s%(levelname)s%(reset)s   %(message)s',\n",
    "            'datefmt': '%d/%m/%y %H:%M:%S',\n",
    "            'log_colors': {\n",
    "                'DEBUG': 'purple',\n",
    "                'INFO': 'blue',\n",
    "                'WARNING': 'yellow',\n",
    "                'ERROR': 'red',\n",
    "                'CRITICAL': 'red',\n",
    "            },\n",
    "        },\n",
    "    },\n",
    "}\n",
    "\n",
    "logging.config.dictConfig(LOGGING_CONFIG)\n",
    "\n",
    "logger = logging.getLogger(__name__)\n",
    "\n",
    "logger.info(\"logger has been configured.\")"
   ]
  },
  {
   "cell_type": "code",
   "execution_count": 13,
   "id": "ec33bcce",
   "metadata": {},
   "outputs": [],
   "source": [
    "RUN_DIRS = [\n",
    "    \"/home/nadir/tmr-code/outputs/archives/snapshot-06-02-16:30/start-end-segmentation_stgcn_False_mlp_20\",\n",
    "    \"/home/nadir/tmr-code/outputs/archives/snapshot-06-02-16:30/start-end-segmentation_stgcn_False_mlp_25\",\n",
    "    \"/home/nadir/tmr-code/outputs/archives/snapshot-06-02-16:30/start-end-segmentation_stgcn_False_mlp_30\",\n",
    "    \"/home/nadir/tmr-code/outputs/archives/snapshot-06-02-16:30/start-end-segmentation_stgcn_False_mlp_35\",\n",
    "    \"/home/nadir/tmr-code/outputs/archives/snapshot-06-02-16:30/start-end-segmentation_stgcn_False_mlp_40\",\n",
    "    \"/home/nadir/tmr-code/outputs/archives/snapshot-06-02-16:30/start-end-segmentation_stgcn_False_mlp_45\",\n",
    "    \"/home/nadir/tmr-code/outputs/archives/snapshot-06-02-16:30/start-end-segmentation_stgcn_False_mlp_50\",\n",
    "    \"/home/nadir/tmr-code/outputs/archives/snapshot-06-02-16:30/start-end-segmentation_tmr_False_mlp_20\",\n",
    "    \"/home/nadir/tmr-code/outputs/archives/snapshot-06-02-16:30/start-end-segmentation_tmr_False_mlp_25\",\n",
    "    \"/home/nadir/tmr-code/outputs/archives/snapshot-06-02-16:30/start-end-segmentation_tmr_False_mlp_30\",\n",
    "    \"/home/nadir/tmr-code/outputs/archives/snapshot-06-02-16:30/start-end-segmentation_tmr_False_mlp_35\",\n",
    "    \"/home/nadir/tmr-code/outputs/archives/snapshot-06-02-16:30/start-end-segmentation_tmr_False_mlp_40\",\n",
    "    \"/home/nadir/tmr-code/outputs/archives/snapshot-06-02-16:30/start-end-segmentation_tmr_False_mlp_45\",\n",
    "    \"/home/nadir/tmr-code/outputs/archives/snapshot-06-02-16:30/start-end-segmentation_tmr_False_mlp_50\",\n",
    "    \"/home/nadir/tmr-code/outputs/archives/snapshot-06-02-16:30/start-end-segmentation_tmr_True_mlp_20\",\n",
    "    \"/home/nadir/tmr-code/outputs/archives/snapshot-06-02-16:30/start-end-segmentation_tmr_True_mlp_25\",\n",
    "    \"/home/nadir/tmr-code/outputs/archives/snapshot-06-02-16:30/start-end-segmentation_tmr_True_mlp_30\",\n",
    "    \"/home/nadir/tmr-code/outputs/archives/snapshot-06-02-16:30/start-end-segmentation_tmr_True_mlp_35\",\n",
    "    \"/home/nadir/tmr-code/outputs/archives/snapshot-06-02-16:30/start-end-segmentation_tmr_True_mlp_40\",\n",
    "    \"/home/nadir/tmr-code/outputs/archives/snapshot-06-02-16:30/start-end-segmentation_tmr_True_mlp_45\",\n",
    "    \"/home/nadir/tmr-code/outputs/archives/snapshot-06-02-16:30/start-end-segmentation_tmr_True_mlp_50\"\n",
    "]"
   ]
  },
  {
   "cell_type": "code",
   "execution_count": 14,
   "id": "81955573",
   "metadata": {},
   "outputs": [],
   "source": [
    "def load_segmentation_metrics(output_path):\n",
    "    \"\"\"Load segmentation evaluation metrics from JSON file\"\"\"\n",
    "    metrics_path = os.path.join(output_path, \"segmentation-evaluation\", \"metrics.json\")\n",
    "    \n",
    "    try:\n",
    "        if os.path.exists(metrics_path):\n",
    "            with open(metrics_path, \"r\") as f:\n",
    "                return json.load(f)\n",
    "    except Exception as e:\n",
    "        print(f\"Error loading metrics from {output_path}: {e}\")\n",
    "    return None\n",
    "\n",
    "def parse_model_info(output_path):\n",
    "    \"\"\"Parse model information from output path\"\"\"\n",
    "    parts = os.path.basename(output_path).split('_')\n",
    "    encoder_type = parts[1]  # stgcn or tmr\n",
    "    pretrained = parts[2] == 'True'\n",
    "    window_size = int(parts[4])\n",
    "    \n",
    "    if encoder_type == 'stgcn':\n",
    "        model_name = \"ST-GCN\"\n",
    "    elif encoder_type == 'tmr' and not pretrained:\n",
    "        model_name = \"TMR (no pretraining)\"\n",
    "    else:  # tmr with pretraining\n",
    "        model_name = \"TMR (with pretraining)\"\n",
    "    \n",
    "    return model_name, window_size"
   ]
  },
  {
   "cell_type": "code",
   "execution_count": 15,
   "id": "c1972c4d",
   "metadata": {},
   "outputs": [],
   "source": [
    "def get_config(index: int):\n",
    "    with initialize(\n",
    "        version_base=None,\n",
    "        config_path=\"configs\",\n",
    "        # \n",
    "    ):\n",
    "        # config = compose(overrides=[\"+db=mysql\"])\n",
    "        config = compose(\n",
    "            config_name=\"evaluate-start-end-segmentation-segmenter\",\n",
    "            return_hydra_config=True,\n",
    "            overrides=[f\"run_dir={RUN_DIRS[index]}\"]\n",
    "        )\n",
    "        \n",
    "        from hydra.core.hydra_config import HydraConfig\n",
    "        \n",
    "        HydraConfig.instance().set_config(config)\n",
    "        \n",
    "        return config"
   ]
  },
  {
   "cell_type": "code",
   "execution_count": 16,
   "id": "c3e73029",
   "metadata": {},
   "outputs": [],
   "source": [
    "def prepare(config, with_seeding=True, pretrained=True):\n",
    "    device = config.device\n",
    "    run_dir = config.run_dir\n",
    "    examples = config.examples\n",
    "    ckpt_name = config.ckpt\n",
    "\n",
    "    save_dir = os.path.join(run_dir, \"segmentation-evaluation\")\n",
    "    os.makedirs(save_dir, exist_ok=True)\n",
    "    \n",
    "    print(\"[config.data]:\", config.data)\n",
    "    \n",
    "    window_size = int(run_dir.split(\"_mlp_\")[1])\n",
    "\n",
    "    # NOTE: moved up here in order to use the segmentation config for the dataset\n",
    "    # defined in the config file rather than the config used to train the model\n",
    "    dataset = instantiate(\n",
    "        config.data,\n",
    "        dir=\"/home/nadir/disk/datasets/babel-for-validation\",\n",
    "        window_size=window_size,\n",
    "        split=\"all\",\n",
    "        for_validation=True,\n",
    "        normalize=False,\n",
    "    )\n",
    "    \n",
    "    normalization_statistics = torch.load(os.path.join(dataset.dir, \"motion_normalization_stats.pt\"))\n",
    "\n",
    "    mean = normalization_statistics[\"mean\"]\n",
    "    std = normalization_statistics[\"std\"]\n",
    "    \n",
    "    print(\"[mean.shape]:\", mean.shape)\n",
    "    print(\"[std.shape]:\", std.shape)\n",
    "\n",
    "    # NOTE: will load the config used to train the model\n",
    "    \n",
    "    cfg = read_config(run_dir)\n",
    "\n",
    "    pl.seed_everything(cfg.seed)\n",
    "\n",
    "    logger.info(\"[model]: loading\")\n",
    "    model = load_model_from_cfg(cfg, ckpt_name, eval_mode=True, device=device, pretrained=pretrained)\n",
    "\n",
    "    model = model.eval()\n",
    "    \n",
    "    return model, dataset, device, window_size, mean, std"
   ]
  },
  {
   "cell_type": "code",
   "execution_count": 17,
   "id": "0c3f0a34",
   "metadata": {},
   "outputs": [
    {
     "name": "stderr",
     "output_type": "stream",
     "text": [
      "Global seed set to 1234\n"
     ]
    },
    {
     "name": "stdout",
     "output_type": "stream",
     "text": [
      "[config.run_dir]: /home/nadir/tmr-code/outputs/archives/snapshot-06-02-16:30/start-end-segmentation_stgcn_False_mlp_40\n",
      "[metrics]: {'framewise_accuracy': 0.7621569405453676, 'edit_score': 0.7651706095200113, 'f1_scores': {'f1@0.10': 0.6603825840469434, 'f1@0.20': 0.615270252578462, 'f1@0.30': 0.5765571707735224, 'f1@0.40': 0.5480669932665598, 'f1@0.50': 0.5165402440375978, 'f1@0.60': 0.48890871919347767, 'f1@0.70': 0.4568678212568927, 'f1@0.80': 0.4258077881199871, 'f1@0.90': 0.3860288800315932, 'f1@1.00': 0.3495424804581183}, 'balanced_accuracy': 0.6184430357883799, 'matthews_corrcoef': 0.17033563098183793, 'per_class': {'0.0': {'precision': 0.9269705781059956, 'recall': 0.7972098498822753, 'f1': 0.8572073588370345}, '1.0': {'precision': 0.19551119969063271, 'recall': 0.4396762216944844, 'f1': 0.2706653900402549}}}\n",
      "[config.data]: {'_target_': 'src.data.windowed_dataset.WindowedDataset', 'dir': '???', 'window_size': '???', 'preload': False, 'normalize': False}\n",
      "[mean.shape]: torch.Size([22, 3])\n",
      "[std.shape]: torch.Size([22, 3])\n",
      "[#dataset]: 1538\n"
     ]
    }
   ],
   "source": [
    "# config = get_config(18)\n",
    "config = get_config(4)\n",
    "# config = get_config(2)\n",
    "\n",
    "metrics = load_segmentation_metrics(config.run_dir)\n",
    "\n",
    "print(\"[config.run_dir]:\", config.run_dir)\n",
    "print(\"[metrics]:\", metrics)\n",
    "\n",
    "model, dataset, device, window_size, mean, std = prepare(config, pretrained=True)\n",
    "\n",
    "print(\"[#dataset]:\", len(dataset))"
   ]
  },
  {
   "cell_type": "code",
   "execution_count": 18,
   "id": "6c5b870e",
   "metadata": {},
   "outputs": [
    {
     "name": "stdout",
     "output_type": "stream",
     "text": [
      "[treatment]: found 1810 AMASS samples in HML3D but not in BABEL.\n",
      "[missing_in_babel]: ['ACCAD/Female1General_c3d/A12 - crawl backwards_poses', 'ACCAD/Female1Running_c3d/C25 -  side step right_poses', 'ACCAD/Female1Walking_c3d/B20 - walk with box_poses', 'ACCAD/Female1Walking_c3d/B21 s3 - put down box to walk_poses', 'ACCAD/Male1Walking_c3d/Walk B15 - Walk turn around_poses', 'ACCAD/Male1Walking_c3d/Walk B22 - Side step left_poses', 'ACCAD/Male2MartialArtsKicks_c3d/G17-  push kick left_poses', 'ACCAD/Male2MartialArtsPunches_c3d/E14 - body cross right_poses', 'ACCAD/Male2MartialArtsStances_c3d/D5 - ready to walk away_poses', 'ACCAD/Male2Running_c3d/C1 - stand to run_poses']\n"
     ]
    }
   ],
   "source": [
    "import json\n",
    "import pandas as pd\n",
    "\n",
    "amass_to_hml3d_path = \"/home/nadir/code/babel/amass-to-hml3d.csv\"\n",
    "amass_to_babel_path = \"/home/nadir/code/babel/amass-to-babel.json\"\n",
    "\n",
    "def find_amass_in_hml3d_not_in_babel(csv_path, json_path):\n",
    "    df = pd.read_csv(csv_path)\n",
    "    hml3d_paths = df['source_path'].apply(lambda x: x.replace('./pose_data/', '').replace('_poses.npy', '_poses'))\n",
    "    hml3d_set = set(hml3d_paths)\n",
    "\n",
    "    with open(json_path, 'r') as f:\n",
    "        babel_data = json.load(f)\n",
    "        \n",
    "    babel_set = set(babel_data.keys())\n",
    "\n",
    "    only_in_hml3d = sorted(hml3d_set - babel_set)\n",
    "\n",
    "    return only_in_hml3d\n",
    "\n",
    "missing_in_babel = find_amass_in_hml3d_not_in_babel(amass_to_hml3d_path, amass_to_babel_path)\n",
    "\n",
    "print(f\"[treatment]: found {len(missing_in_babel)} AMASS samples in HML3D but not in BABEL.\")\n",
    "\n",
    "print(\"[missing_in_babel]:\", missing_in_babel[:10])"
   ]
  },
  {
   "cell_type": "code",
   "execution_count": 52,
   "id": "52bf8a20",
   "metadata": {},
   "outputs": [
    {
     "name": "stdout",
     "output_type": "stream",
     "text": [
      "[hml3d_sample.keys()]: dict_keys(['file_id', 'amass_relative_path', 'motion', 'transformed_motion', 'annotations', 'index'])\n",
      "[outputs.shape]: torch.Size([199])\n",
      "[annotations]: ['a oerson wals forward and backward on a diagonal line.#a/DET oerson/NOUN wal/NOUN forward/ADV and/CCONJ backward/ADV on/ADP a/DET diagonal/ADJ line/NOUN#0.0#0.0', 'a person walks forward and backward twice.#a/DET person/NOUN walk/VERB forward/ADV and/CCONJ backward/ADV twice/ADV#0.0#0.0', 'he walks forward, then turning left, he backs up in a slight arc back to his start point, then walks diagonally to his right, turns to his left, takes a step or two backward, turns, and walks the same diagonal back.#he/PRON walk/VERB forward/ADV then/ADV turn/VERB left/ADV he/PRON back/VERB up/ADP in/ADP a/DET slight/ADJ arc/NOUN back/ADV to/ADP his/DET start/NOUN point/NOUN then/ADV walk/VERB diagonally/ADV to/ADP his/DET right/NOUN turn/VERB to/ADP his/DET left/NOUN take/VERB a/DET step/NOUN or/CCONJ two/NUM backward/ADJ turn/VERB and/CCONJ walk/VERB the/DET same/ADJ diagonal/ADJ back/NOUN#0.0#0.0']\n"
     ]
    },
    {
     "data": {
      "image/png": "[encoded data removed]",
      "text/plain": [
       "<Figure size 1200x200 with 1 Axes>"
      ]
     },
     "metadata": {},
     "output_type": "display_data"
    }
   ],
   "source": [
    "path = os.path.join(\"/home/nadir/tmr-code/archive/samples/\", np.random.choice(os.listdir(\"/home/nadir/tmr-code/archive/samples/\")))\n",
    "\n",
    "hml3d_sample = np.load(path, allow_pickle=True).item()\n",
    "\n",
    "print(\"[hml3d_sample.keys()]:\", hml3d_sample.keys())\n",
    "\n",
    "sample = {\n",
    "    \"motion\": torch.tensor(hml3d_sample[\"transformed_motion\"], dtype=torch.float32).to(device),\n",
    "    \"transformed_motion\": torch.tensor(hml3d_sample[\"motion\"], dtype=torch.float32).to(device),\n",
    "}\n",
    "\n",
    "outputs, exception = model.segment_sequence(\n",
    "    sample,\n",
    "    window_size=window_size,\n",
    "    window_step=1,\n",
    "    mean=mean,\n",
    "    std=std\n",
    ")\n",
    "\n",
    "if exception is not None:\n",
    "    logger.warning(f\"[skipped-sequence]: {path} due to {exception}\")\n",
    "\n",
    "print(\"[outputs.shape]:\", outputs.shape)\n",
    "\n",
    "preds = outputs.cpu().numpy()\n",
    "\n",
    "print(\"[annotations]:\", hml3d_sample[\"annotations\"])\n",
    "\n",
    "import matplotlib.pyplot as plt\n",
    "from tas_helpers.visualization import SegmentationVisualizer\n",
    "from tas_helpers.utils import (\n",
    "    frame_level_annotations_to_segment_level_annotations,\n",
    ")\n",
    "\n",
    "visualizer = SegmentationVisualizer(labels_values=[0, 1])\n",
    "\n",
    "visualizer.plot_segmentation(preds, header=\"Ground Truth\", fps=20, show_ticks=False)\n",
    "plt.show()"
   ]
  }
 ],
 "metadata": {
  "kernelspec": {
   "display_name": ".tmr.venv",
   "language": "python",
   "name": "python3"
  },
  "language_info": {
   "codemirror_mode": {
    "name": "ipython",
    "version": 3
   },
   "file_extension": ".py",
   "mimetype": "text/x-python",
   "name": "python",
   "nbconvert_exporter": "python",
   "pygments_lexer": "ipython3",
   "version": "3.10.12"
  }
 },
 "nbformat": 4,
 "nbformat_minor": 5
}
