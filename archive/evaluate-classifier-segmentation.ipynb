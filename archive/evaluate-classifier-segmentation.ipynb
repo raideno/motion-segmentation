{
 "cells": [
  {
   "cell_type": "code",
   "execution_count": 4,
   "id": "869901ee",
   "metadata": {},
   "outputs": [],
   "source": [
    "%load_ext autoreload\n",
    "%autoreload 2"
   ]
  },
  {
   "cell_type": "code",
   "execution_count": 5,
   "id": "6660b149",
   "metadata": {},
   "outputs": [
    {
     "name": "stderr",
     "output_type": "stream",
     "text": [
      "/home/nadir/disk/codes/tmr-code/.tmr.venv/lib/python3.10/site-packages/tqdm/auto.py:21: TqdmWarning: IProgress not found. Please update jupyter and ipywidgets. See https://ipywidgets.readthedocs.io/en/stable/user_install.html\n",
      "  from .autonotebook import tqdm as notebook_tqdm\n"
     ]
    }
   ],
   "source": [
    "import os\n",
    "import yaml\n",
    "import tqdm\n",
    "import json\n",
    "import torch\n",
    "import hydra\n",
    "import pprint\n",
    "import logging\n",
    "import colorlog\n",
    "import src.prepare  # noqa\n",
    "import logging.config\n",
    "\n",
    "import numpy as np\n",
    "import pytorch_lightning as pl\n",
    "\n",
    "from src.config import read_config\n",
    "from hydra.utils import instantiate\n",
    "from src.load import load_model_from_cfg\n",
    "from omegaconf import OmegaConf, DictConfig\n",
    "from hydra import initialize, initialize_config_module, initialize_config_dir, compose"
   ]
  },
  {
   "cell_type": "code",
   "execution_count": 6,
   "id": "2f946cfe",
   "metadata": {},
   "outputs": [],
   "source": [
    "\n",
    "LOGGING_CONFIG = {\n",
    "    'version': 1,\n",
    "    'disable_existing_loggers': False,\n",
    "    'formatters': {\n",
    "        'simple': {\n",
    "            'format': '[%(asctime)s][%(name)s][%(levelname)s] - %(message)s',\n",
    "            'datefmt': '%d/%m/%y %H:%M:%S',\n",
    "        },\n",
    "        'colorlog': {\n",
    "            '()': 'colorlog.ColoredFormatter',\n",
    "            'format': '[%(white)s%(asctime)s%(reset)s] %(log_color)s%(levelname)s%(reset)s   %(message)s',\n",
    "            'datefmt': '%d/%m/%y %H:%M:%S',\n",
    "            'log_colors': {\n",
    "                'DEBUG': 'purple',\n",
    "                'INFO': 'blue',\n",
    "                'WARNING': 'yellow',\n",
    "                'ERROR': 'red',\n",
    "                'CRITICAL': 'red',\n",
    "            },\n",
    "        },\n",
    "    },\n",
    "}\n",
    "\n",
    "logging.config.dictConfig(LOGGING_CONFIG)\n",
    "\n",
    "logger = logging.getLogger(__name__)\n",
    "\n",
    "logger.info(\"logger has been configured.\")"
   ]
  },
  {
   "cell_type": "markdown",
   "id": "1fd4126b",
   "metadata": {},
   "source": [
    "<div class=\"alert alert-info\">\n",
    "\n",
    "**source:** [hydra configurations in a notebook](https://github.com/facebookresearch/hydra/blob/main/examples/jupyter_notebooks/compose_configs_in_notebook.ipynb).\n",
    "\n",
    "</div>"
   ]
  },
  {
   "cell_type": "code",
   "execution_count": 7,
   "id": "8b4e2179",
   "metadata": {},
   "outputs": [],
   "source": [
    "RUN_DIRS = [\n",
    "    # \"/home/nadir/disk/codes/tmr-code/outputs/classifier_babel-classifier_guoh3dfeats_16\",\n",
    "    # \"/home/nadir/disk/codes/tmr-code/outputs/classifier_babel-classifier_guoh3dfeats_32\",\n",
    "    # \"/home/nadir/disk/codes/tmr-code/outputs/classifier_babel-classifier_guoh3dfeats_64\",\n",
    "    \"/home/nadir/disk/codes/tmr-code/outputs/classifier_babel-classifier_guoh3dfeats_128\",\n",
    "    \"/home/nadir/disk/codes/tmr-code/outputs/classifier_babel-classifier_guoh3dfeats_256\",\n",
    "    # \"/home/nadir/disk/codes/tmr-code/outputs/classifier_babel-classifier_guoh3dfeats_512\",\n",
    "]"
   ]
  },
  {
   "cell_type": "code",
   "execution_count": 8,
   "id": "4f37f244",
   "metadata": {},
   "outputs": [
    {
     "name": "stdout",
     "output_type": "stream",
     "text": [
      "hydra:\n",
      "  run:\n",
      "    dir: ${run_dir}\n",
      "  sweep:\n",
      "    dir: multirun/${now:%Y-%m-%d}/${now:%H-%M-%S}\n",
      "    subdir: ${hydra.job.num}\n",
      "  launcher:\n",
      "    _target_: hydra._internal.core_plugins.basic_launcher.BasicLauncher\n",
      "  sweeper:\n",
      "    _target_: hydra._internal.core_plugins.basic_sweeper.BasicSweeper\n",
      "    max_batch_size: null\n",
      "    params: null\n",
      "  help:\n",
      "    app_name: ${hydra.job.name}\n",
      "    header: '${hydra.help.app_name} is powered by Hydra.\n",
      "\n",
      "      '\n",
      "    footer: 'Powered by Hydra (https://hydra.cc)\n",
      "\n",
      "      Use --hydra-help to view Hydra specific help\n",
      "\n",
      "      '\n",
      "    template: '${hydra.help.header}\n",
      "\n",
      "      == Configuration groups ==\n",
      "\n",
      "      Compose your configuration from those groups (group=option)\n",
      "\n",
      "\n",
      "      $APP_CONFIG_GROUPS\n",
      "\n",
      "\n",
      "      == Config ==\n",
      "\n",
      "      Override anything in the config (foo.bar=value)\n",
      "\n",
      "\n",
      "      $CONFIG\n",
      "\n",
      "\n",
      "      ${hydra.help.footer}\n",
      "\n",
      "      '\n",
      "  hydra_help:\n",
      "    template: 'Hydra (${hydra.runtime.version})\n",
      "\n",
      "      See https://hydra.cc for more info.\n",
      "\n",
      "\n",
      "      == Flags ==\n",
      "\n",
      "      $FLAGS_HELP\n",
      "\n",
      "\n",
      "      == Configuration groups ==\n",
      "\n",
      "      Compose your configuration from those groups (For example, append hydra/job_logging=disabled\n",
      "      to command line)\n",
      "\n",
      "\n",
      "      $HYDRA_CONFIG_GROUPS\n",
      "\n",
      "\n",
      "      Use ''--cfg hydra'' to Show the Hydra config.\n",
      "\n",
      "      '\n",
      "    hydra_help: ???\n",
      "  hydra_logging:\n",
      "    version: 1\n",
      "    formatters:\n",
      "      verysimple:\n",
      "        format: '%(message)s'\n",
      "    handlers:\n",
      "      console:\n",
      "        class: src.logging.TqdmLoggingHandler\n",
      "        formatter: verysimple\n",
      "    root:\n",
      "      level: ${logger_level}\n",
      "      handlers:\n",
      "      - console\n",
      "    disable_existing_loggers: false\n",
      "  job_logging:\n",
      "    version: 1\n",
      "    formatters:\n",
      "      simple:\n",
      "        format: '[%(asctime)s][%(name)s][%(levelname)s] - %(message)s'\n",
      "        datefmt: '%d/%m/%y %H:%M:%S'\n",
      "      colorlog:\n",
      "        (): colorlog.ColoredFormatter\n",
      "        format: '[%(white)s%(asctime)s%(reset)s] %(log_color)s%(levelname)s%(reset)s   %(message)s'\n",
      "        datefmt: '%d/%m/%y %H:%M:%S'\n",
      "        log_colors:\n",
      "          DEBUG: purple\n",
      "          INFO: blue\n",
      "          WARNING: yellow\n",
      "          ERROR: red\n",
      "          CRITICAL: red\n",
      "    handlers:\n",
      "      console:\n",
      "        class: src.logging.TqdmLoggingHandler\n",
      "        formatter: colorlog\n",
      "      file_out:\n",
      "        class: logging.FileHandler\n",
      "        formatter: simple\n",
      "        filename: ${run_dir}/${hydra.job.name}.out\n",
      "    root:\n",
      "      level: ${logger_level}\n",
      "      handlers:\n",
      "      - console\n",
      "      - file_out\n",
      "    disable_existing_loggers: false\n",
      "  env: {}\n",
      "  mode: null\n",
      "  searchpath: []\n",
      "  callbacks: {}\n",
      "  output_subdir: .hydra\n",
      "  overrides:\n",
      "    hydra: []\n",
      "    task:\n",
      "    - run_dir=/home/nadir/disk/codes/tmr-code/outputs/classifier_babel-classifier_guoh3dfeats_128\n",
      "  job:\n",
      "    name: notebook\n",
      "    chdir: null\n",
      "    override_dirname: run_dir=/home/nadir/disk/codes/tmr-code/outputs/classifier_babel-classifier_guoh3dfeats_128\n",
      "    id: ???\n",
      "    num: ???\n",
      "    config_name: evaluate-classifier-segmentation\n",
      "    env_set: {}\n",
      "    env_copy: []\n",
      "    config:\n",
      "      override_dirname:\n",
      "        kv_sep: '='\n",
      "        item_sep: ','\n",
      "        exclude_keys: []\n",
      "  runtime:\n",
      "    version: 1.3.2\n",
      "    version_base: '1.3'\n",
      "    cwd: /media/rana/nadir/codes/tmr-code\n",
      "    config_sources:\n",
      "    - path: hydra.conf\n",
      "      schema: pkg\n",
      "      provider: hydra\n",
      "    - path: /media/rana/nadir/codes/tmr-code/configs\n",
      "      schema: file\n",
      "      provider: main\n",
      "    - path: hydra_plugins.hydra_colorlog.conf\n",
      "      schema: pkg\n",
      "      provider: hydra-colorlog\n",
      "    - path: ''\n",
      "      schema: structured\n",
      "      provider: schema\n",
      "    output_dir: ???\n",
      "    choices:\n",
      "      model: classifier\n",
      "      data: babel-segmentation\n",
      "      data/motion_loader: guoh3dfeats\n",
      "      hydra/env: default\n",
      "      hydra/callbacks: null\n",
      "      hydra/job_logging: tqdm\n",
      "      hydra/hydra_logging: tqdm\n",
      "      hydra/hydra_help: default\n",
      "      hydra/help: default\n",
      "      hydra/sweeper: basic\n",
      "      hydra/launcher: basic\n",
      "      hydra/output: default\n",
      "  verbose: false\n",
      "data:\n",
      "  motion_loader:\n",
      "    _target_: src.data.motion.AMASSMotionLoader\n",
      "    base_dir: datasets/motions/guoh3dfeats\n",
      "    normalizer:\n",
      "      _target_: src.data.motion.Normalizer\n",
      "      base_dir: stats/${hydra:runtime.choices.data}/${hydra:runtime.choices.data/motion_loader}\n",
      "      eps: 1.0e-12\n",
      "    fps: 20.0\n",
      "    nfeats: 263\n",
      "  _target_: src.data.text_motion.TextMotionDataset\n",
      "  path: datasets/annotations/${hydra:runtime.choices.data}\n",
      "  text_to_token_emb:\n",
      "    _target_: src.data.text.TokenEmbeddings\n",
      "    path: datasets/annotations/${hydra:runtime.choices.data}\n",
      "    modelname: distilbert-base-uncased\n",
      "    preload: true\n",
      "  text_to_sent_emb:\n",
      "    _target_: src.data.text.SentenceEmbeddings\n",
      "    path: datasets/annotations/${hydra:runtime.choices.data}\n",
      "    modelname: sentence-transformers/all-mpnet-base-v2\n",
      "    preload: true\n",
      "  mode: segmentation\n",
      "  preload: false\n",
      "model:\n",
      "  _target_: src.model.ClassifierModel\n",
      "  motion_encoder:\n",
      "    _target_: src.model.ACTORStyleEncoder\n",
      "    nfeats: ${data.motion_loader.nfeats}\n",
      "    vae: true\n",
      "    latent_dim: 256\n",
      "    ff_size: 1024\n",
      "    num_layers: 6\n",
      "    num_heads: 4\n",
      "    dropout: 0.1\n",
      "    activation: gelu\n",
      "  hidden_dim: 128\n",
      "  lr: 0.0001\n",
      "  cache: true\n",
      "run_dir: /home/nadir/disk/codes/tmr-code/outputs/classifier_babel-classifier_guoh3dfeats_128\n",
      "seed: 1234\n",
      "logger_level: INFO\n",
      "device: cuda:1\n",
      "ckpt: best\n",
      "dataloader:\n",
      "  _target_: torch.utils.data.DataLoader\n",
      "  batch_size: 8\n",
      "  num_workers: 8\n",
      "examples: true\n",
      "\n"
     ]
    }
   ],
   "source": [
    "with initialize(\n",
    "    version_base=None,\n",
    "    config_path=\"configs\",\n",
    "    # \n",
    "):\n",
    "    # config = compose(overrides=[\"+db=mysql\"])\n",
    "    config = compose(\n",
    "        config_name=\"evaluate-classifier-segmentation\",\n",
    "        return_hydra_config=True,\n",
    "        overrides=[f\"run_dir={RUN_DIRS[0]}\"]\n",
    "    )\n",
    "    \n",
    "    from hydra.core.hydra_config import HydraConfig\n",
    "    \n",
    "    HydraConfig.instance().set_config(config)\n",
    "    \n",
    "print(OmegaConf.to_yaml(config, sort_keys=False))"
   ]
  },
  {
   "cell_type": "code",
   "execution_count": 9,
   "id": "0283cdca",
   "metadata": {},
   "outputs": [],
   "source": [
    "def get_batch(dataloader, index):\n",
    "    for i, batch in tqdm.tqdm(iterable=enumerate(dataloader), total=index, desc=\"[loading]\"):\n",
    "        if i == index:\n",
    "            break\n",
    "    \n",
    "    return batch"
   ]
  },
  {
   "cell_type": "code",
   "execution_count": 10,
   "id": "6f8e1bb6",
   "metadata": {},
   "outputs": [],
   "source": [
    "def prepare(run_dir, with_seeding=True):\n",
    "    device = config.device\n",
    "    # run_dir = config.run_dir\n",
    "    examples = config.examples\n",
    "    ckpt_name = config.ckpt\n",
    "\n",
    "    # NOTE: moved up here in order to use the segmentation config for the dataset\n",
    "    # defined in the config file rather than the config used to train the model\n",
    "    dataset = instantiate(config.data, split=\"test\")\n",
    "\n",
    "    logger.info(f\"[run_dir]: {run_dir}\")\n",
    "\n",
    "    # NOTE: will load the config used to train the model\n",
    "    cfg = read_config(run_dir)\n",
    "\n",
    "    if with_seeding:\n",
    "        pl.seed_everything(cfg.seed)\n",
    "\n",
    "    logger.info(\"[model]: loading\")\n",
    "    model = load_model_from_cfg(cfg, ckpt_name, eval_mode=True, device=device)\n",
    "\n",
    "    logger.info(f\"[dataset.mode]: {dataset.mode}\")\n",
    "\n",
    "    dataloader = instantiate(\n",
    "        cfg.dataloader,\n",
    "        dataset=dataset,\n",
    "        collate_fn=dataset.collate_fn,\n",
    "        shuffle=False,\n",
    "    )\n",
    "    \n",
    "    model = model.eval()\n",
    "    \n",
    "    return model, dataloader, dataset, device"
   ]
  },
  {
   "cell_type": "code",
   "execution_count": 15,
   "id": "9d1d7670",
   "metadata": {},
   "outputs": [],
   "source": [
    "from src.model.metrics import get_segments\n",
    "\n",
    "def remove_short_segments(labels, min_duration=5):\n",
    "    \"\"\"\n",
    "    Remove segments shorter than min_duration from label sequence.\n",
    "    Short segments are replaced by the previous valid label.\n",
    "    \"\"\"\n",
    "    segments = get_segments(labels)\n",
    "    new_labels = []\n",
    "\n",
    "    for i, (label, start, end) in enumerate(segments):\n",
    "        duration = end - start\n",
    "        if duration >= min_duration:\n",
    "            new_labels.extend([label] * duration)\n",
    "        else:\n",
    "            # Replace with previous label if available, else next, else zero\n",
    "            if i > 0:\n",
    "                fill_label = segments[i - 1][0]\n",
    "            elif i < len(segments) - 1:\n",
    "                fill_label = segments[i + 1][0]\n",
    "            else:\n",
    "                fill_label = 0  # fallback\n",
    "            new_labels.extend([fill_label] * duration)\n",
    "\n",
    "    return new_labels"
   ]
  },
  {
   "cell_type": "code",
   "execution_count": null,
   "id": "1d2f0f82",
   "metadata": {},
   "outputs": [
    {
     "name": "stdout",
     "output_type": "stream",
     "text": [
      "[model]: 128\n",
      "[index]: 83\n"
     ]
    },
    {
     "name": "stderr",
     "output_type": "stream",
     "text": [
      "[loading]: 100%|██████████| 83/83 [00:12<00:00,  6.67it/s]\n"
     ]
    },
    {
     "data": {
      "image/png": "[encoded data removed]",
      "text/plain": [
       "<Figure size 1200x200 with 1 Axes>"
      ]
     },
     "metadata": {},
     "output_type": "display_data"
    },
    {
     "data": {
      "image/png": "[encoded data removed]",
      "text/plain": [
       "<Figure size 1200x200 with 1 Axes>"
      ]
     },
     "metadata": {},
     "output_type": "display_data"
    },
    {
     "name": "stdout",
     "output_type": "stream",
     "text": [
      "--- --- --- --- --- --- ---\n"
     ]
    },
    {
     "data": {
      "image/png": "[encoded data removed]",
      "text/plain": [
       "<Figure size 1200x200 with 1 Axes>"
      ]
     },
     "metadata": {},
     "output_type": "display_data"
    },
    {
     "data": {
      "image/png": "[encoded data removed]",
      "text/plain": [
       "<Figure size 1200x200 with 1 Axes>"
      ]
     },
     "metadata": {},
     "output_type": "display_data"
    },
    {
     "name": "stdout",
     "output_type": "stream",
     "text": [
      "--- --- --- --- --- --- ---\n"
     ]
    },
    {
     "data": {
      "image/png": "[encoded data removed]",
      "text/plain": [
       "<Figure size 1200x200 with 1 Axes>"
      ]
     },
     "metadata": {},
     "output_type": "display_data"
    },
    {
     "data": {
      "image/png": "[encoded data removed]",
      "text/plain": [
       "<Figure size 1200x200 with 1 Axes>"
      ]
     },
     "metadata": {},
     "output_type": "display_data"
    },
    {
     "name": "stdout",
     "output_type": "stream",
     "text": [
      "--- --- --- --- --- --- ---\n"
     ]
    },
    {
     "data": {
      "image/png": "[encoded data removed]",
      "text/plain": [
       "<Figure size 1200x200 with 1 Axes>"
      ]
     },
     "metadata": {},
     "output_type": "display_data"
    },
    {
     "data": {
      "image/png": "[encoded data removed]",
      "text/plain": [
       "<Figure size 1200x200 with 1 Axes>"
      ]
     },
     "metadata": {},
     "output_type": "display_data"
    },
    {
     "name": "stdout",
     "output_type": "stream",
     "text": [
      "--- --- --- --- --- --- ---\n"
     ]
    },
    {
     "data": {
      "image/png": "[encoded data removed]",
      "text/plain": [
       "<Figure size 1200x200 with 1 Axes>"
      ]
     },
     "metadata": {},
     "output_type": "display_data"
    },
    {
     "data": {
      "image/png": "[encoded data removed]",
      "text/plain": [
       "<Figure size 1200x200 with 1 Axes>"
      ]
     },
     "metadata": {},
     "output_type": "display_data"
    },
    {
     "name": "stdout",
     "output_type": "stream",
     "text": [
      "--- --- --- --- --- --- ---\n"
     ]
    },
    {
     "data": {
      "image/png": "[encoded data removed]",
      "text/plain": [
       "<Figure size 1200x200 with 1 Axes>"
      ]
     },
     "metadata": {},
     "output_type": "display_data"
    },
    {
     "data": {
      "image/png": "[encoded data removed]",
      "text/plain": [
       "<Figure size 1200x200 with 1 Axes>"
      ]
     },
     "metadata": {},
     "output_type": "display_data"
    },
    {
     "name": "stdout",
     "output_type": "stream",
     "text": [
      "--- --- --- --- --- --- ---\n"
     ]
    },
    {
     "data": {
      "image/png": "[encoded data removed]",
      "text/plain": [
       "<Figure size 1200x200 with 1 Axes>"
      ]
     },
     "metadata": {},
     "output_type": "display_data"
    },
    {
     "data": {
      "image/png": "[encoded data removed]",
      "text/plain": [
       "<Figure size 1200x200 with 1 Axes>"
      ]
     },
     "metadata": {},
     "output_type": "display_data"
    },
    {
     "name": "stdout",
     "output_type": "stream",
     "text": [
      "--- --- --- --- --- --- ---\n"
     ]
    },
    {
     "data": {
      "image/png": "[encoded data removed]",
      "text/plain": [
       "<Figure size 1200x200 with 1 Axes>"
      ]
     },
     "metadata": {},
     "output_type": "display_data"
    },
    {
     "data": {
      "image/png": "[encoded data removed]",
      "text/plain": [
       "<Figure size 1200x200 with 1 Axes>"
      ]
     },
     "metadata": {},
     "output_type": "display_data"
    },
    {
     "name": "stdout",
     "output_type": "stream",
     "text": [
      "--- --- --- --- --- --- ---\n"
     ]
    }
   ],
   "source": [
    "model, dataloader, dataset, device = prepare(run_dir=RUN_DIRS[0], with_seeding=False)\n",
    "\n",
    "print(f\"[model]: {RUN_DIRS[0].split('_')[-1]}\")\n",
    "\n",
    "index = np.random.randint(0, len(dataloader))\n",
    "\n",
    "print(f\"[index]: {index}\")\n",
    "\n",
    "batch = get_batch(dataloader, index)\n",
    "\n",
    "batch[\"annotation\"] = batch[\"annotation\"].to(device)\n",
    "\n",
    "batch[\"motion_x_dict\"][\"x\"] = batch[\"motion_x_dict\"][\"x\"].to(device)\n",
    "batch[\"motion_x_dict\"][\"mask\"] = batch[\"motion_x_dict\"][\"mask\"].to(device)\n",
    "\n",
    "x = batch[\"motion_x_dict\"]\n",
    "y = batch[\"annotation\"]\n",
    "\n",
    "outputs = model.segment_sequence(\n",
    "    motion_x_dict=x,\n",
    "    window_size=30,\n",
    "    window_step=1\n",
    ")\n",
    "\n",
    "predictions = outputs.cpu().numpy()\n",
    "predictions = [remove_short_segments(seq, min_duration=5) for seq in predictions]\n",
    "\n",
    "labels = y.squeeze(1).cpu().numpy()\n",
    "\n",
    "import matplotlib.pyplot as plt\n",
    "from tas_helpers.visualization import SegmentationVisualizer\n",
    "from tas_helpers.utils import generate_random_segmentation, frame_level_annotations_to_segment_level_annotations\n",
    "\n",
    "\n",
    "visualizer = SegmentationVisualizer(\n",
    "    labels_values=[0, 1],\n",
    ")\n",
    "    \n",
    "for prediction, label in zip(predictions, labels):\n",
    "    # print(f\"[prediction]: {frame_level_annotations_to_segment_level_annotations(prediction, fps=20)}\")\n",
    "    # print(f\"[label]: {frame_level_annotations_to_segment_level_annotations(label, fps=20)}\")\n",
    "    segmentation_1 = frame_level_annotations_to_segment_level_annotations(prediction, fps=20)\n",
    "    segmentation_2 = frame_level_annotations_to_segment_level_annotations(label, fps=20)\n",
    "    \n",
    "    visualizer.plot_segmentation(\n",
    "        label, \n",
    "        header=\"Ground Truth\", \n",
    "        fps=20,\n",
    "        show_ticks=False\n",
    "    )\n",
    "\n",
    "    plt.show()\n",
    "    \n",
    "    visualizer.plot_segmentation(\n",
    "        prediction, \n",
    "        header=\"Prediction\", \n",
    "        fps=20,\n",
    "        show_ticks=False\n",
    "    )\n",
    "\n",
    "    plt.show()\n",
    "    \n",
    "    print(\"--- --- --- --- --- --- ---\")"
   ]
  },
  {
   "cell_type": "code",
   "execution_count": 17,
   "id": "c5b45c71",
   "metadata": {},
   "outputs": [],
   "source": [
    "def transition_count_accuracy(preds, gts):\n",
    "    \"\"\"\n",
    "    Computes the accuracy of transition count prediction.\n",
    "    Each sequence is compared based on the number of segments (i.e., transitions + 1).\n",
    "    Returns the mean accuracy across the dataset.\n",
    "    \"\"\"\n",
    "    accuracies = []\n",
    "    for pred, gt in zip(preds, gts):\n",
    "        pred_n_trans = len(get_segments(pred))\n",
    "        gt_n_trans = len(get_segments(gt))\n",
    "        acc = 1.0 if pred_n_trans == gt_n_trans else 0.0\n",
    "        accuracies.append(acc)\n",
    "    return np.mean(accuracies)"
   ]
  },
  {
   "cell_type": "code",
   "execution_count": null,
   "id": "8ed5bc3f",
   "metadata": {},
   "outputs": [
    {
     "name": "stderr",
     "output_type": "stream",
     "text": [
      "Global seed set to 1234\n"
     ]
    },
    {
     "name": "stdout",
     "output_type": "stream",
     "text": [
      "[model-variant]: 128\n"
     ]
    },
    {
     "name": "stderr",
     "output_type": "stream",
     "text": [
      "[evaluate-segmentation]: 100%|██████████| 111/111 [00:17<00:00,  6.17it/s]\n",
      "Global seed set to 1234\n"
     ]
    },
    {
     "name": "stdout",
     "output_type": "stream",
     "text": [
      "Frame-wise Accuracy: 94.81%\n",
      "Edit Score: 94.91%\n",
      "Transition Count Accuracy: 43.76%\n",
      "F1@0.10: 63.63%\n",
      "F1@0.20: 62.90%\n",
      "F1@0.30: 62.10%\n",
      "F1@0.40: 61.00%\n",
      "F1@0.50: 60.01%\n",
      "F1@0.60: 58.49%\n",
      "F1@0.70: 56.96%\n",
      "F1@0.80: 54.28%\n",
      "F1@0.90: 50.36%\n",
      "F1@1.00: 42.06%\n",
      "--- --- --- --- --- --- ---\n",
      "\n",
      "\n",
      "\n",
      "\n",
      "[model-variant]: 256\n"
     ]
    },
    {
     "name": "stderr",
     "output_type": "stream",
     "text": [
      "[evaluate-segmentation]: 100%|██████████| 111/111 [00:17<00:00,  6.49it/s]\n"
     ]
    },
    {
     "name": "stdout",
     "output_type": "stream",
     "text": [
      "Frame-wise Accuracy: 96.19%\n",
      "Edit Score: 96.20%\n",
      "Transition Count Accuracy: 51.36%\n",
      "F1@0.10: 67.22%\n",
      "F1@0.20: 66.94%\n",
      "F1@0.30: 66.54%\n",
      "F1@0.40: 66.02%\n",
      "F1@0.50: 65.35%\n",
      "F1@0.60: 64.09%\n",
      "F1@0.70: 62.71%\n",
      "F1@0.80: 60.42%\n",
      "F1@0.90: 57.07%\n",
      "F1@1.00: 51.25%\n",
      "--- --- --- --- --- --- ---\n",
      "\n",
      "\n",
      "\n",
      "\n"
     ]
    }
   ],
   "source": [
    "for run_dir in RUN_DIRS:\n",
    "    try:\n",
    "        print(f\"[model-variant]: {run_dir.split('_')[-1]}\")\n",
    "        \n",
    "        model, dataloader, dataset, device = prepare(run_dir=run_dir)\n",
    "\n",
    "        all_preds, all_labels = [], []\n",
    "\n",
    "        with torch.no_grad():\n",
    "            for index, batch in tqdm.tqdm(iterable=enumerate(dataloader), total=len(dataloader), desc=\"[evaluate-segmentation]\"):\n",
    "                batch[\"annotation\"] = batch[\"annotation\"].to(device)\n",
    "                \n",
    "                batch[\"motion_x_dict\"][\"x\"] = batch[\"motion_x_dict\"][\"x\"].to(device)\n",
    "                batch[\"motion_x_dict\"][\"mask\"] = batch[\"motion_x_dict\"][\"mask\"].to(device)\n",
    "                \n",
    "                x = batch[\"motion_x_dict\"]\n",
    "                y = batch[\"annotation\"]\n",
    "                \n",
    "                outputs = model.segment_sequence(\n",
    "                    motion_x_dict=x,\n",
    "                    window_size=20,\n",
    "                    window_step=1\n",
    "                )\n",
    "                \n",
    "                preds = outputs.cpu().numpy()\n",
    "                labels = y.squeeze(1).cpu().numpy()\n",
    "                \n",
    "                for pred_seq, label_seq in zip(preds, labels):\n",
    "                    all_preds.append(pred_seq)\n",
    "                    all_labels.append(label_seq)\n",
    "\n",
    "        acc_list = []\n",
    "        edit_list = []\n",
    "        \n",
    "        # NOTE: post-processing\n",
    "        all_preds = [remove_short_segments(seq, min_duration=5) for seq in all_preds]\n",
    "\n",
    "        f1_thresholds = np.arange(0.1, 1.1, 0.1)\n",
    "        f1_scores = []\n",
    "\n",
    "        from src.model.metrics import accuracy_score, levenshtein, f_score\n",
    "\n",
    "        for pred_seq, label_seq in zip(all_preds, all_labels):\n",
    "            acc = accuracy_score(label_seq, pred_seq)\n",
    "            edit = levenshtein(pred_seq, label_seq)\n",
    "            \n",
    "            f1_thresholds_scores = []\n",
    "            \n",
    "            for threshold in f1_thresholds:\n",
    "                f1_thresholds_scores.append(f_score(pred_seq, label_seq, overlap=threshold))\n",
    "\n",
    "            acc_list.append(acc)\n",
    "            edit_list.append(edit)\n",
    "            f1_scores.append(f1_thresholds_scores)\n",
    "\n",
    "        print(\"Frame-wise Accuracy: {:.2f}%\".format(100 * np.mean(acc_list)))\n",
    "        print(\"Edit Score: {:.2f}%\".format(100 * np.mean(edit_list)))\n",
    "        trans_acc = transition_count_accuracy(all_preds, all_labels)\n",
    "        print(f\"Transition Count Accuracy: {trans_acc * 100:.2f}%\")\n",
    "\n",
    "        for i, threshold in enumerate(f1_thresholds):\n",
    "            scores = [f1_scores[j][i] for j in range(len(f1_scores))]\n",
    "            print(f\"F1@{threshold:.2f}: {100 * np.mean(scores):.2f}%\")\n",
    "            \n",
    "        print(\"--- --- --- --- --- --- ---\\n\\n\\n\\n\")\n",
    "        \n",
    "    except Exception as exception:\n",
    "        print(\"[exception]:\", exception)"
   ]
  },
  {
   "cell_type": "code",
   "execution_count": null,
   "id": "993f7416",
   "metadata": {},
   "outputs": [],
   "source": []
  }
 ],
 "metadata": {
  "kernelspec": {
   "display_name": ".tmr.venv",
   "language": "python",
   "name": "python3"
  },
  "language_info": {
   "codemirror_mode": {
    "name": "ipython",
    "version": 3
   },
   "file_extension": ".py",
   "mimetype": "text/x-python",
   "name": "python",
   "nbconvert_exporter": "python",
   "pygments_lexer": "ipython3",
   "version": "3.10.12"
  }
 },
 "nbformat": 4,
 "nbformat_minor": 5
}
